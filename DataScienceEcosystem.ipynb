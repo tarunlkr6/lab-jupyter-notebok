{
  "nbformat": 4,
  "nbformat_minor": 0,
  "metadata": {
    "colab": {
      "provenance": []
    },
    "kernelspec": {
      "name": "python3",
      "display_name": "Python 3"
    },
    "language_info": {
      "name": "python"
    }
  },
  "cells": [
    {
      "cell_type": "markdown",
      "source": [
        "#Data Science Tools and Ecosystem"
      ],
      "metadata": {
        "id": "Ohd93KMm4PTp"
      }
    },
    {
      "cell_type": "markdown",
      "source": [
        "In this notebook, Data Science Tools and Ecosystem are summarized."
      ],
      "metadata": {
        "id": "WcWty60L45Id"
      }
    },
    {
      "cell_type": "markdown",
      "source": [
        "Some of the popular languages that Data Scientists use are:\n",
        "<ol>\n",
        "<li>Python\n",
        "<li>R\n",
        "<li>Scala"
      ],
      "metadata": {
        "id": "7xIFhFTm6MKb"
      }
    },
    {
      "cell_type": "markdown",
      "source": [
        "Some of the commonly used libraries used by Data Scientist include:\n",
        "<ol>\n",
        "<li>Numpy\n",
        "<li>Pandas\n",
        "<li>Matplotlib.pyplot\n",
        "<li>scikit-learn\n",
        "<li>scipy\n",
        "<li>Seaborn"
      ],
      "metadata": {
        "id": "uG5r57sk6n5s"
      }
    },
    {
      "cell_type": "markdown",
      "source": [
        "|Data Science Tools|\n",
        "---------------------\n",
        "|Juypter Notebook |\n",
        "|R Studio|\n",
        "|Spyder |"
      ],
      "metadata": {
        "id": "TKxd8Ilu7egE"
      }
    },
    {
      "cell_type": "markdown",
      "source": [
        "###Below are a few exaples of evaluating aritmetic expression in python"
      ],
      "metadata": {
        "id": "dzPen3mA81o5"
      }
    },
    {
      "cell_type": "code",
      "source": [
        "# This is a simple aritmetic expression to multiply then addd integers\n",
        "result = (3*4)+5\n",
        "result"
      ],
      "metadata": {
        "colab": {
          "base_uri": "https://localhost:8080/"
        },
        "id": "330UEYzz7Jkb",
        "outputId": "0fd1da66-ba61-448a-ace2-54acc448f1b0"
      },
      "execution_count": 4,
      "outputs": [
        {
          "output_type": "execute_result",
          "data": {
            "text/plain": [
              "17"
            ]
          },
          "metadata": {},
          "execution_count": 4
        }
      ]
    },
    {
      "cell_type": "code",
      "source": [
        "# convert minutes to hour\n",
        "minutes = 200\n",
        "hours = minutes/60\n",
        "hours"
      ],
      "metadata": {
        "colab": {
          "base_uri": "https://localhost:8080/"
        },
        "id": "MAUgrhXs9ZKq",
        "outputId": "c2772985-ec45-4663-cc9f-59a7f1c38cd5"
      },
      "execution_count": 5,
      "outputs": [
        {
          "output_type": "execute_result",
          "data": {
            "text/plain": [
              "3.3333333333333335"
            ]
          },
          "metadata": {},
          "execution_count": 5
        }
      ]
    },
    {
      "cell_type": "markdown",
      "source": [
        "**Objectives:**\n",
        "* list popular languages of Data\n",
        "Science\n",
        "* list development environment open source tools for Data Science\n",
        "* commonly used libraries used by Data Scientist\n",
        "* evaluating aritmetic expression"
      ],
      "metadata": {
        "id": "Ruzlmj_v-LDG"
      }
    },
    {
      "cell_type": "markdown",
      "source": [
        "## Author\n",
        "Tarun Kumar"
      ],
      "metadata": {
        "id": "4rQo6r9Y_cuV"
      }
    }
  ]
}